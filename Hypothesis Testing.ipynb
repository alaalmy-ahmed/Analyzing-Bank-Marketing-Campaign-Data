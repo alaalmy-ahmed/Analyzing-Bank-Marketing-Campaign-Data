{
 "cells": [
  {
   "cell_type": "code",
   "execution_count": 77,
   "metadata": {},
   "outputs": [],
   "source": [
    "import numpy as np\n",
    "import pandas as pd\n",
    "import scipy.stats as stats"
   ]
  },
  {
   "cell_type": "code",
   "execution_count": 78,
   "metadata": {},
   "outputs": [
    {
     "data": {
      "text/html": [
       "<div>\n",
       "<style scoped>\n",
       "    .dataframe tbody tr th:only-of-type {\n",
       "        vertical-align: middle;\n",
       "    }\n",
       "\n",
       "    .dataframe tbody tr th {\n",
       "        vertical-align: top;\n",
       "    }\n",
       "\n",
       "    .dataframe thead th {\n",
       "        text-align: right;\n",
       "    }\n",
       "</style>\n",
       "<table border=\"1\" class=\"dataframe\">\n",
       "  <thead>\n",
       "    <tr style=\"text-align: right;\">\n",
       "      <th></th>\n",
       "      <th>age</th>\n",
       "      <th>job</th>\n",
       "      <th>marital</th>\n",
       "      <th>education</th>\n",
       "      <th>default</th>\n",
       "      <th>housing</th>\n",
       "      <th>loan</th>\n",
       "      <th>contact</th>\n",
       "      <th>month</th>\n",
       "      <th>day_of_week</th>\n",
       "      <th>...</th>\n",
       "      <th>campaign</th>\n",
       "      <th>pdays</th>\n",
       "      <th>previous</th>\n",
       "      <th>poutcome</th>\n",
       "      <th>emp.var.rate</th>\n",
       "      <th>cons.price.idx</th>\n",
       "      <th>cons.conf.idx</th>\n",
       "      <th>euribor3m</th>\n",
       "      <th>nr.employed</th>\n",
       "      <th>y</th>\n",
       "    </tr>\n",
       "  </thead>\n",
       "  <tbody>\n",
       "    <tr>\n",
       "      <th>0</th>\n",
       "      <td>56</td>\n",
       "      <td>housemaid</td>\n",
       "      <td>married</td>\n",
       "      <td>basic.4y</td>\n",
       "      <td>no</td>\n",
       "      <td>no</td>\n",
       "      <td>no</td>\n",
       "      <td>telephone</td>\n",
       "      <td>may</td>\n",
       "      <td>mon</td>\n",
       "      <td>...</td>\n",
       "      <td>1</td>\n",
       "      <td>999</td>\n",
       "      <td>0</td>\n",
       "      <td>nonexistent</td>\n",
       "      <td>1.1</td>\n",
       "      <td>93.994</td>\n",
       "      <td>-36.4</td>\n",
       "      <td>4.857</td>\n",
       "      <td>5191.0</td>\n",
       "      <td>no</td>\n",
       "    </tr>\n",
       "    <tr>\n",
       "      <th>1</th>\n",
       "      <td>57</td>\n",
       "      <td>services</td>\n",
       "      <td>married</td>\n",
       "      <td>high.school</td>\n",
       "      <td>unknown</td>\n",
       "      <td>no</td>\n",
       "      <td>no</td>\n",
       "      <td>telephone</td>\n",
       "      <td>may</td>\n",
       "      <td>mon</td>\n",
       "      <td>...</td>\n",
       "      <td>1</td>\n",
       "      <td>999</td>\n",
       "      <td>0</td>\n",
       "      <td>nonexistent</td>\n",
       "      <td>1.1</td>\n",
       "      <td>93.994</td>\n",
       "      <td>-36.4</td>\n",
       "      <td>4.857</td>\n",
       "      <td>5191.0</td>\n",
       "      <td>no</td>\n",
       "    </tr>\n",
       "    <tr>\n",
       "      <th>2</th>\n",
       "      <td>37</td>\n",
       "      <td>services</td>\n",
       "      <td>married</td>\n",
       "      <td>high.school</td>\n",
       "      <td>no</td>\n",
       "      <td>yes</td>\n",
       "      <td>no</td>\n",
       "      <td>telephone</td>\n",
       "      <td>may</td>\n",
       "      <td>mon</td>\n",
       "      <td>...</td>\n",
       "      <td>1</td>\n",
       "      <td>999</td>\n",
       "      <td>0</td>\n",
       "      <td>nonexistent</td>\n",
       "      <td>1.1</td>\n",
       "      <td>93.994</td>\n",
       "      <td>-36.4</td>\n",
       "      <td>4.857</td>\n",
       "      <td>5191.0</td>\n",
       "      <td>no</td>\n",
       "    </tr>\n",
       "    <tr>\n",
       "      <th>3</th>\n",
       "      <td>40</td>\n",
       "      <td>admin.</td>\n",
       "      <td>married</td>\n",
       "      <td>basic.6y</td>\n",
       "      <td>no</td>\n",
       "      <td>no</td>\n",
       "      <td>no</td>\n",
       "      <td>telephone</td>\n",
       "      <td>may</td>\n",
       "      <td>mon</td>\n",
       "      <td>...</td>\n",
       "      <td>1</td>\n",
       "      <td>999</td>\n",
       "      <td>0</td>\n",
       "      <td>nonexistent</td>\n",
       "      <td>1.1</td>\n",
       "      <td>93.994</td>\n",
       "      <td>-36.4</td>\n",
       "      <td>4.857</td>\n",
       "      <td>5191.0</td>\n",
       "      <td>no</td>\n",
       "    </tr>\n",
       "    <tr>\n",
       "      <th>4</th>\n",
       "      <td>56</td>\n",
       "      <td>services</td>\n",
       "      <td>married</td>\n",
       "      <td>high.school</td>\n",
       "      <td>no</td>\n",
       "      <td>no</td>\n",
       "      <td>yes</td>\n",
       "      <td>telephone</td>\n",
       "      <td>may</td>\n",
       "      <td>mon</td>\n",
       "      <td>...</td>\n",
       "      <td>1</td>\n",
       "      <td>999</td>\n",
       "      <td>0</td>\n",
       "      <td>nonexistent</td>\n",
       "      <td>1.1</td>\n",
       "      <td>93.994</td>\n",
       "      <td>-36.4</td>\n",
       "      <td>4.857</td>\n",
       "      <td>5191.0</td>\n",
       "      <td>no</td>\n",
       "    </tr>\n",
       "  </tbody>\n",
       "</table>\n",
       "<p>5 rows × 21 columns</p>\n",
       "</div>"
      ],
      "text/plain": [
       "   age        job  marital    education  default housing loan    contact  \\\n",
       "0   56  housemaid  married     basic.4y       no      no   no  telephone   \n",
       "1   57   services  married  high.school  unknown      no   no  telephone   \n",
       "2   37   services  married  high.school       no     yes   no  telephone   \n",
       "3   40     admin.  married     basic.6y       no      no   no  telephone   \n",
       "4   56   services  married  high.school       no      no  yes  telephone   \n",
       "\n",
       "  month day_of_week  ...  campaign  pdays  previous     poutcome emp.var.rate  \\\n",
       "0   may         mon  ...         1    999         0  nonexistent          1.1   \n",
       "1   may         mon  ...         1    999         0  nonexistent          1.1   \n",
       "2   may         mon  ...         1    999         0  nonexistent          1.1   \n",
       "3   may         mon  ...         1    999         0  nonexistent          1.1   \n",
       "4   may         mon  ...         1    999         0  nonexistent          1.1   \n",
       "\n",
       "   cons.price.idx  cons.conf.idx  euribor3m  nr.employed   y  \n",
       "0          93.994          -36.4      4.857       5191.0  no  \n",
       "1          93.994          -36.4      4.857       5191.0  no  \n",
       "2          93.994          -36.4      4.857       5191.0  no  \n",
       "3          93.994          -36.4      4.857       5191.0  no  \n",
       "4          93.994          -36.4      4.857       5191.0  no  \n",
       "\n",
       "[5 rows x 21 columns]"
      ]
     },
     "execution_count": 78,
     "metadata": {},
     "output_type": "execute_result"
    }
   ],
   "source": [
    "df = pd.read_csv('bank-full.csv', sep=';')\n",
    "df.head()"
   ]
  },
  {
   "attachments": {},
   "cell_type": "markdown",
   "metadata": {},
   "source": [
    "- Mapping the y column so we can make calculations on it."
   ]
  },
  {
   "cell_type": "code",
   "execution_count": 79,
   "metadata": {},
   "outputs": [],
   "source": [
    "map = {'yes':1, 'no':0}\n",
    "df['y'] = df['y'].map(map)"
   ]
  },
  {
   "attachments": {},
   "cell_type": "markdown",
   "metadata": {},
   "source": [
    "#### Admin job tend have higher y-yes values than the rest of the jobs. (Reject the null Hypothesis)\n",
    "- null = rest jobs have higher or equal y-yes values than admin\n",
    "- alternative = rest jobs have lower y-yes values than admin"
   ]
  },
  {
   "cell_type": "code",
   "execution_count": 80,
   "metadata": {},
   "outputs": [
    {
     "name": "stdout",
     "output_type": "stream",
     "text": [
      "statistic is : -6.381, p-value: 0.000\n"
     ]
    }
   ],
   "source": [
    "mask = df.job == 'admin.'\n",
    "admin = df[mask]['y']\n",
    "rest_jobs = df[~mask]['y']\n",
    "\n",
    "statistic, p_value = stats.ttest_ind(rest_jobs, admin, alternative='less')\n",
    "\n",
    "print(f'statistic is : {statistic:.003f}, p-value: {p_value:.003f}')"
   ]
  },
  {
   "attachments": {},
   "cell_type": "markdown",
   "metadata": {},
   "source": [
    "#### married status tend have higher y-yes values than the rest of the marital status. we will test married marital status agianst the rest of marital status and against the  single marital status because we have alot of married status recorded more than half of the data.\n",
    "1. (Fail to reject the null Hypothesis)\n",
    "    - null = rest marital statuses have higher or equal y-yes values than married\n",
    "    - alternative = rest marital status have lower y-yes values than married\n",
    "2. (Reject the null Hypothesis)\n",
    "    - null = Married have higher or equal y-yes values than Single\n",
    "    - alternative = Married status have lower y-yes values than Single\n",
    "3. (Reject the null Hypothesis)\n",
    "    - null = other marital statuses have higher or equal y-yes values than single\n",
    "    - alternative = rest marital status have lower y-yes values than single"
   ]
  },
  {
   "cell_type": "code",
   "execution_count": 81,
   "metadata": {},
   "outputs": [
    {
     "name": "stdout",
     "output_type": "stream",
     "text": [
      "statistic is : 8.816, p-value: 1.000\n"
     ]
    }
   ],
   "source": [
    "mask = df.marital == 'married'\n",
    "\n",
    "married = df[mask]['y']\n",
    "other_marital = df[~mask]['y']\n",
    "\n",
    "statistic, p_value = stats.ttest_ind(other_marital, married, alternative='less')\n",
    "\n",
    "print(f'statistic is : {statistic:.003f}, p-value: {p_value:.003f}')"
   ]
  },
  {
   "cell_type": "code",
   "execution_count": 82,
   "metadata": {},
   "outputs": [
    {
     "name": "stdout",
     "output_type": "stream",
     "text": [
      "statistic is : -10.786, p-value: 0.000\n"
     ]
    }
   ],
   "source": [
    "mask1 = df.marital == 'married'\n",
    "mask2 = df.marital == 'single'\n",
    "\n",
    "married = df[mask1]['y']\n",
    "single = df[mask2]['y']\n",
    "\n",
    "statistic, p_value = stats.ttest_ind(married, single, alternative='less')\n",
    "\n",
    "print(f'statistic is : {statistic:.003f}, p-value: {p_value:.003f}')"
   ]
  },
  {
   "cell_type": "code",
   "execution_count": 83,
   "metadata": {},
   "outputs": [
    {
     "name": "stdout",
     "output_type": "stream",
     "text": [
      "statistic is : -11.002, p-value: 0.000\n"
     ]
    }
   ],
   "source": [
    "mask = df.marital == 'single'\n",
    "\n",
    "single = df[mask]['y']\n",
    "other_marital = df[~mask]['y']\n",
    "\n",
    "statistic, p_value = stats.ttest_ind(other_marital, single, alternative='less')\n",
    "\n",
    "print(f'statistic is : {statistic:.003f}, p-value: {p_value:.003f}')"
   ]
  },
  {
   "attachments": {},
   "cell_type": "markdown",
   "metadata": {},
   "source": [
    "#### University grade tend have higher y-yes values than the rest of the Grades. (Reject the null Hypothesis)\n",
    "- null = rest of degrees have higher or equal y-yes values than University degree.\n",
    "- alternative = rest of degrees have lower y-yes values than University degree."
   ]
  },
  {
   "cell_type": "code",
   "execution_count": 84,
   "metadata": {},
   "outputs": [
    {
     "name": "stdout",
     "output_type": "stream",
     "text": [
      "statistic is : -10.234, p-value: 0.000\n"
     ]
    }
   ],
   "source": [
    "mask = df.education == 'university.degree'\n",
    "\n",
    "university = df[mask]['y']\n",
    "other_degrees = df[~mask]['y']\n",
    "\n",
    "statistic, p_value = stats.ttest_ind(other_degrees, university, alternative='less')\n",
    "\n",
    "print(f'statistic is : {statistic:.003f}, p-value: {p_value:.003f}')"
   ]
  },
  {
   "attachments": {},
   "cell_type": "markdown",
   "metadata": {},
   "source": [
    "#### Cellular contact tend have higher y-yes values than telephone contact. (Reject the null Hypothesis)\n",
    "- null = telephones have higher or equal y-yes values than cellular.\n",
    "- alternative = telephone have lower y-yes values than cellular."
   ]
  },
  {
   "cell_type": "code",
   "execution_count": 85,
   "metadata": {},
   "outputs": [
    {
     "name": "stdout",
     "output_type": "stream",
     "text": [
      "statistic is : -29.694, p-value: 0.000\n"
     ]
    }
   ],
   "source": [
    "mask = df.contact == 'cellular'\n",
    "\n",
    "cellular = df[mask]['y']\n",
    "telephone = df[~mask]['y']\n",
    "\n",
    "statistic, p_value = stats.ttest_ind(telephone, cellular, alternative='less')\n",
    "\n",
    "print(f'statistic is : {statistic:.003f}, p-value: {p_value:.003f}')"
   ]
  },
  {
   "attachments": {},
   "cell_type": "markdown",
   "metadata": {},
   "source": [
    "#### [may, jun, jul, aug] Summer tend to have y-yes values than other months. (Fail to reject the null hypothesis)\n",
    "- null = other months have higher than or equal y-yes values than summer months.\n",
    "- alternative = other months have lower y-yes values than summer months."
   ]
  },
  {
   "cell_type": "code",
   "execution_count": 86,
   "metadata": {},
   "outputs": [
    {
     "name": "stdout",
     "output_type": "stream",
     "text": [
      "statistic is : 35.006, p-value: 1.000\n"
     ]
    }
   ],
   "source": [
    "mask = df.month.isin(['may', 'jun', 'jul', 'aug'])\n",
    "\n",
    "summer = df[mask]['y']\n",
    "other_months = df[~mask]['y']\n",
    "\n",
    "statistic, p_value = stats.ttest_ind(other_months, summer, alternative='less')\n",
    "\n",
    "print(f'statistic is : {statistic:.003f}, p-value: {p_value:.003f}')"
   ]
  },
  {
   "attachments": {},
   "cell_type": "markdown",
   "metadata": {},
   "source": [
    "#### Success poutcomes tend have higher y-yes values than Failure poutcomes. (Reject the null Hypothesis)\n",
    "- null = Failure poutcomes have higher or equal y-yes values than Success poutcomes.\n",
    "- alternative = Failure poutcomes have lower y-yes values than success poutcomes."
   ]
  },
  {
   "cell_type": "code",
   "execution_count": 87,
   "metadata": {},
   "outputs": [
    {
     "name": "stdout",
     "output_type": "stream",
     "text": [
      "statistic is : -42.647, p-value: 0.000\n"
     ]
    }
   ],
   "source": [
    "mask1 = df.poutcome == 'success'\n",
    "mask2 = df.poutcome == 'failure'\n",
    "success = df[mask1]['y']\n",
    "failure = df[mask2]['y']\n",
    "\n",
    "statistic, p_value = stats.ttest_ind(failure, success, alternative='less')\n",
    "\n",
    "print(f'statistic is : {statistic:.003f}, p-value: {p_value:.003f}')"
   ]
  },
  {
   "attachments": {},
   "cell_type": "markdown",
   "metadata": {},
   "source": [
    "- When the P-value equals 1.0 this leads to positive correlation, 0.0 negative."
   ]
  },
  {
   "cell_type": "code",
   "execution_count": 105,
   "metadata": {},
   "outputs": [],
   "source": [
    "def hypothesis_testing_for_relations(col):\n",
    "    mask = df.y == 1\n",
    "\n",
    "    yes = df[mask][col]\n",
    "    no = df[~mask][col]\n",
    "\n",
    "    statistic, p_value = stats.ttest_ind(yes, no, alternative='less')\n",
    "\n",
    "    print(f'{col:15s} | statistic is : {statistic:.003f}, p-value: {p_value:.003f}')"
   ]
  },
  {
   "cell_type": "code",
   "execution_count": 106,
   "metadata": {},
   "outputs": [
    {
     "name": "stdout",
     "output_type": "stream",
     "text": [
      "age             | statistic is : 6.172, p-value: 1.000\n",
      "duration        | statistic is : 89.967, p-value: 1.000\n",
      "campaign        | statistic is : -13.497, p-value: 0.000\n",
      "pdays           | statistic is : -69.722, p-value: 0.000\n",
      "previous        | statistic is : 48.003, p-value: 1.000\n",
      "emp.var.rate    | statistic is : -63.434, p-value: 0.000\n",
      "cons.price.idx  | statistic is : -27.903, p-value: 0.000\n",
      "cons.conf.idx   | statistic is : 11.154, p-value: 1.000\n",
      "euribor3m       | statistic is : -65.647, p-value: 0.000\n",
      "nr.employed     | statistic is : -76.984, p-value: 0.000\n"
     ]
    }
   ],
   "source": [
    "numerical_data = df.select_dtypes(exclude='object').drop('y', axis=1)\n",
    "\n",
    "for col in numerical_data.columns:\n",
    "    hypothesis_testing_for_relations(col)"
   ]
  },
  {
   "cell_type": "code",
   "execution_count": null,
   "metadata": {},
   "outputs": [],
   "source": []
  }
 ],
 "metadata": {
  "kernelspec": {
   "display_name": "Python 3",
   "language": "python",
   "name": "python3"
  },
  "language_info": {
   "codemirror_mode": {
    "name": "ipython",
    "version": 3
   },
   "file_extension": ".py",
   "mimetype": "text/x-python",
   "name": "python",
   "nbconvert_exporter": "python",
   "pygments_lexer": "ipython3",
   "version": "3.10.7 (tags/v3.10.7:6cc6b13, Sep  5 2022, 14:08:36) [MSC v.1933 64 bit (AMD64)]"
  },
  "orig_nbformat": 4,
  "vscode": {
   "interpreter": {
    "hash": "e7699c430d4d00af86ef3ffd0324f1ea4b16aa0a13eb21b337cb5a312c346e93"
   }
  }
 },
 "nbformat": 4,
 "nbformat_minor": 2
}
